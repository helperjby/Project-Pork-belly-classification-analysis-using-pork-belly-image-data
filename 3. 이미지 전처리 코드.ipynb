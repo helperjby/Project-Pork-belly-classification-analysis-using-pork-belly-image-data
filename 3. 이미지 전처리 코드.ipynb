{
 "cells": [
  {
   "cell_type": "code",
   "execution_count": 4,
   "metadata": {},
   "outputs": [],
   "source": [
    "import os\n",
    "import numpy as np\n",
    "import pandas as pd\n",
    "from skimage import io, color, measure\n",
    "from skimage.filters import threshold_otsu\n",
    "from skimage.morphology import binary_closing, binary_erosion, disk\n",
    "from skimage.segmentation import clear_border\n",
    "from skimage.util import img_as_ubyte\n",
    "from tqdm import tqdm\n",
    "import matplotlib.pyplot as plt\n"
   ]
  },
  {
   "cell_type": "code",
   "execution_count": 4,
   "metadata": {},
   "outputs": [
    {
     "data": {
      "image/png": "[encoded data removed]",
      "text/plain": [
       "<Figure size 1000x600 with 1 Axes>"
      ]
     },
     "metadata": {},
     "output_type": "display_data"
    }
   ],
   "source": [
    "# 이미지 폴더 경로\n",
    "folder_path = 'C:\\\\Users\\\\JBY\\\\Downloads\\\\data\\\\image'\n",
    "\n",
    "# 이미지 파일 용량 저장할 리스트\n",
    "file_sizes = []\n",
    "\n",
    "# 폴더 내의 파일들을 탐색\n",
    "for root, dirs, files in os.walk(folder_path):\n",
    "    for file in files:\n",
    "        # 파일 경로\n",
    "        file_path = os.path.join(root, file)\n",
    "        \n",
    "        # 파일이 이미지인지 확인 (확장자 기준)\n",
    "        if file_path.lower().endswith(('.png', '.jpg', '.jpeg', '.tiff', '.bmp', '.gif')):\n",
    "            # 파일 크기를 메가바이트 단위로 변환하여 리스트에 추가\n",
    "            file_size = os.path.getsize(file_path) / (1024 * 1024)  # 메가바이트로 변환\n",
    "            file_sizes.append(file_size)\n",
    "\n",
    "# 결과를 히스토그램으로 시각화\n",
    "plt.figure(figsize=(10,6))\n",
    "plt.hist(file_sizes, bins=50, color='green', alpha=0.7)\n",
    "plt.title('이미지 파일 크기 분포')\n",
    "plt.xlabel('파일 크기 (MB)')\n",
    "plt.ylabel('파일 수')\n",
    "plt.grid(True)\n",
    "plt.show()\n"
   ]
  },
  {
   "cell_type": "code",
   "execution_count": 3,
   "metadata": {},
   "outputs": [
    {
     "ename": "NameError",
     "evalue": "name 'folder_path' is not defined",
     "output_type": "error",
     "traceback": [
      "\u001b[1;31m---------------------------------------------------------------------------\u001b[0m",
      "\u001b[1;31mNameError\u001b[0m                                 Traceback (most recent call last)",
      "\u001b[1;32mg:\\다른 컴퓨터\\내 컴퓨터\\project\\2023 빅데이터 분석 리더 과정\\프로젝트\\이미지 전처리 코드.ipynb 셀 3\u001b[0m line \u001b[0;36m5\n\u001b[0;32m      <a href='vscode-notebook-cell:/g%3A/%EB%8B%A4%EB%A5%B8%20%EC%BB%B4%ED%93%A8%ED%84%B0/%EB%82%B4%20%EC%BB%B4%ED%93%A8%ED%84%B0/project/2023%20%EB%B9%85%EB%8D%B0%EC%9D%B4%ED%84%B0%20%EB%B6%84%EC%84%9D%20%EB%A6%AC%EB%8D%94%20%EA%B3%BC%EC%A0%95/%ED%94%84%EB%A1%9C%EC%A0%9D%ED%8A%B8/%EC%9D%B4%EB%AF%B8%EC%A7%80%20%EC%A0%84%EC%B2%98%EB%A6%AC%20%EC%BD%94%EB%93%9C.ipynb#W4sZmlsZQ%3D%3D?line=1'>2</a>\u001b[0m over_1mb_count \u001b[39m=\u001b[39m \u001b[39m0\u001b[39m\n\u001b[0;32m      <a href='vscode-notebook-cell:/g%3A/%EB%8B%A4%EB%A5%B8%20%EC%BB%B4%ED%93%A8%ED%84%B0/%EB%82%B4%20%EC%BB%B4%ED%93%A8%ED%84%B0/project/2023%20%EB%B9%85%EB%8D%B0%EC%9D%B4%ED%84%B0%20%EB%B6%84%EC%84%9D%20%EB%A6%AC%EB%8D%94%20%EA%B3%BC%EC%A0%95/%ED%94%84%EB%A1%9C%EC%A0%9D%ED%8A%B8/%EC%9D%B4%EB%AF%B8%EC%A7%80%20%EC%A0%84%EC%B2%98%EB%A6%AC%20%EC%BD%94%EB%93%9C.ipynb#W4sZmlsZQ%3D%3D?line=3'>4</a>\u001b[0m \u001b[39m# 폴더 내의 파일들을 탐색\u001b[39;00m\n\u001b[1;32m----> <a href='vscode-notebook-cell:/g%3A/%EB%8B%A4%EB%A5%B8%20%EC%BB%B4%ED%93%A8%ED%84%B0/%EB%82%B4%20%EC%BB%B4%ED%93%A8%ED%84%B0/project/2023%20%EB%B9%85%EB%8D%B0%EC%9D%B4%ED%84%B0%20%EB%B6%84%EC%84%9D%20%EB%A6%AC%EB%8D%94%20%EA%B3%BC%EC%A0%95/%ED%94%84%EB%A1%9C%EC%A0%9D%ED%8A%B8/%EC%9D%B4%EB%AF%B8%EC%A7%80%20%EC%A0%84%EC%B2%98%EB%A6%AC%20%EC%BD%94%EB%93%9C.ipynb#W4sZmlsZQ%3D%3D?line=4'>5</a>\u001b[0m \u001b[39mfor\u001b[39;00m root, dirs, files \u001b[39min\u001b[39;00m os\u001b[39m.\u001b[39mwalk(folder_path):\n\u001b[0;32m      <a href='vscode-notebook-cell:/g%3A/%EB%8B%A4%EB%A5%B8%20%EC%BB%B4%ED%93%A8%ED%84%B0/%EB%82%B4%20%EC%BB%B4%ED%93%A8%ED%84%B0/project/2023%20%EB%B9%85%EB%8D%B0%EC%9D%B4%ED%84%B0%20%EB%B6%84%EC%84%9D%20%EB%A6%AC%EB%8D%94%20%EA%B3%BC%EC%A0%95/%ED%94%84%EB%A1%9C%EC%A0%9D%ED%8A%B8/%EC%9D%B4%EB%AF%B8%EC%A7%80%20%EC%A0%84%EC%B2%98%EB%A6%AC%20%EC%BD%94%EB%93%9C.ipynb#W4sZmlsZQ%3D%3D?line=5'>6</a>\u001b[0m     \u001b[39mfor\u001b[39;00m file \u001b[39min\u001b[39;00m files:\n\u001b[0;32m      <a href='vscode-notebook-cell:/g%3A/%EB%8B%A4%EB%A5%B8%20%EC%BB%B4%ED%93%A8%ED%84%B0/%EB%82%B4%20%EC%BB%B4%ED%93%A8%ED%84%B0/project/2023%20%EB%B9%85%EB%8D%B0%EC%9D%B4%ED%84%B0%20%EB%B6%84%EC%84%9D%20%EB%A6%AC%EB%8D%94%20%EA%B3%BC%EC%A0%95/%ED%94%84%EB%A1%9C%EC%A0%9D%ED%8A%B8/%EC%9D%B4%EB%AF%B8%EC%A7%80%20%EC%A0%84%EC%B2%98%EB%A6%AC%20%EC%BD%94%EB%93%9C.ipynb#W4sZmlsZQ%3D%3D?line=6'>7</a>\u001b[0m         \u001b[39m# 파일 경로\u001b[39;00m\n\u001b[0;32m      <a href='vscode-notebook-cell:/g%3A/%EB%8B%A4%EB%A5%B8%20%EC%BB%B4%ED%93%A8%ED%84%B0/%EB%82%B4%20%EC%BB%B4%ED%93%A8%ED%84%B0/project/2023%20%EB%B9%85%EB%8D%B0%EC%9D%B4%ED%84%B0%20%EB%B6%84%EC%84%9D%20%EB%A6%AC%EB%8D%94%20%EA%B3%BC%EC%A0%95/%ED%94%84%EB%A1%9C%EC%A0%9D%ED%8A%B8/%EC%9D%B4%EB%AF%B8%EC%A7%80%20%EC%A0%84%EC%B2%98%EB%A6%AC%20%EC%BD%94%EB%93%9C.ipynb#W4sZmlsZQ%3D%3D?line=7'>8</a>\u001b[0m         file_path \u001b[39m=\u001b[39m os\u001b[39m.\u001b[39mpath\u001b[39m.\u001b[39mjoin(root, file)\n",
      "\u001b[1;31mNameError\u001b[0m: name 'folder_path' is not defined"
     ]
    }
   ],
   "source": [
    "# 1MB를 넘는 파일 개수\n",
    "over_1mb_count = 0\n",
    "\n",
    "# 폴더 내의 파일들을 탐색\n",
    "for root, dirs, files in os.walk(folder_path):\n",
    "    for file in files:\n",
    "        # 파일 경로\n",
    "        file_path = os.path.join(root, file)\n",
    "        \n",
    "        # 파일이 이미지인지 확인 (확장자 기준)\n",
    "        if file_path.lower().endswith(('.png', '.jpg', '.jpeg', '.tiff', '.bmp', '.gif')):\n",
    "            # 파일 크기를 메가바이트 단위로 변환\n",
    "            file_size = os.path.getsize(file_path) / (1024 * 1024)  # 메가바이트로 변환\n",
    "            \n",
    "            # 파일 크기가 1MB보다 큰 경우 카운트\n",
    "            if file_size > 1:\n",
    "                over_1mb_count += 1\n",
    "\n",
    "print(f\"1MB 이상의 파일 개수: {over_1mb_count}\")"
   ]
  },
  {
   "cell_type": "code",
   "execution_count": 7,
   "metadata": {},
   "outputs": [
    {
     "name": "stderr",
     "output_type": "stream",
     "text": [
      " 23%|██▎       | 3644/15614 [52:12<1:11:12,  2.80it/s] C:\\Users\\user\\AppData\\Local\\Temp\\ipykernel_4884\\4286531498.py:60: UserWarning: C:\\Users\\user\\Downloads\\data\\2\\1009-19.jpg is a low contrast image\n",
      "  io.imsave(save_path, img_as_ubyte(largest_area_image))\n",
      "100%|██████████| 15614/15614 [1:48:04<00:00,  2.41it/s] "
     ]
    },
    {
     "name": "stdout",
     "output_type": "stream",
     "text": [
      "선택된 범위의 이미지 처리 완료.\n"
     ]
    },
    {
     "name": "stderr",
     "output_type": "stream",
     "text": [
      "\n"
     ]
    }
   ],
   "source": [
    "# CSV 파일 로드\n",
    "csv_path = 'C:\\\\Users\\\\user\\\\Downloads\\\\data\\\\data_cluster.csv'\n",
    "data = pd.read_csv(csv_path)\n",
    "\n",
    "# 처리할 행의 범위 지정\n",
    "start_row = 3669  # 시작 행 (0부터 시작하는 인덱스를 사용)\n",
    "end_row = 2999  # 종료 행\n",
    "\n",
    "# 지정된 범위의 데이터만 선택\n",
    "data = data.iloc[start_row:]\n",
    "\n",
    "# 이미지 디렉토리 경로\n",
    "image_dir = 'C:\\\\Users\\\\user\\\\Downloads\\\\data\\\\image'\n",
    "output_dir = 'C:\\\\Users\\\\user\\\\Downloads\\\\data'\n",
    "\n",
    "# 에러 로그 파일\n",
    "error_log_path = 'C:\\\\Users\\\\user\\\\Downloads\\\\data\\\\error_log.txt'\n",
    "\n",
    "# 데이터프레임의 각 행에 대해 반복 (tqdm으로 진행 상황 표시)\n",
    "for index, row in tqdm(data.iterrows(), total=data.shape[0]):\n",
    "    newID = row['newID']\n",
    "    cluster = row['cluster']\n",
    "\n",
    "    try:\n",
    "        # 이미지 파일 경로\n",
    "        img_path = os.path.join(image_dir, f\"{newID}.jpg\")\n",
    "\n",
    "        # 이미지 로드\n",
    "        input_image = io.imread(img_path)\n",
    "\n",
    "        # 그레이스케일로 변환\n",
    "        gray_image = color.rgb2gray(input_image)\n",
    "\n",
    "        # Otsu's method를 사용하여 이진화\n",
    "        thresh = threshold_otsu(gray_image)\n",
    "        binary_image = gray_image > thresh\n",
    "\n",
    "        # 이미지 전처리\n",
    "        binary_image = binary_closing(binary_image, disk(3))\n",
    "        binary_image = clear_border(binary_image)\n",
    "        binary_image = binary_erosion(binary_image, disk(2))\n",
    "\n",
    "        # 레이블링된 영역 추출\n",
    "        label_image = measure.label(binary_image)\n",
    "        regions = measure.regionprops(label_image)\n",
    "\n",
    "        # 가장 큰 영역 찾기\n",
    "        largest_region = max(regions, key=lambda region: region.area)\n",
    "\n",
    "        # 가장 큰 영역의 bounding box 좌표 가져오기\n",
    "        min_row, min_col, max_row, max_col = largest_region.bbox\n",
    "\n",
    "        # 가장 큰 영역 추출\n",
    "        largest_area_image = input_image[min_row:max_row, min_col:max_col]\n",
    "\n",
    "        # 전처리된 이미지 저장할 경로\n",
    "        save_path = os.path.join(output_dir, str(cluster), f\"{newID}.jpg\")\n",
    "\n",
    "        # 이미지 저장\n",
    "        io.imsave(save_path, img_as_ubyte(largest_area_image))\n",
    "    except Exception as e:\n",
    "        # 에러 메시지 작성\n",
    "        error_message = f\"Error processing image {newID}: {str(e)}\\n\"\n",
    "        \n",
    "        # 에러 메시지를 로그 파일에 기록\n",
    "        with open(error_log_path, 'a') as error_file:\n",
    "            error_file.write(error_message)\n",
    "\n",
    "print(\"선택된 범위의 이미지 처리 완료.\")"
   ]
  }
 ],
 "metadata": {
  "kernelspec": {
   "display_name": "Python 3",
   "language": "python",
   "name": "python3"
  },
  "language_info": {
   "codemirror_mode": {
    "name": "ipython",
    "version": 3
   },
   "file_extension": ".py",
   "mimetype": "text/x-python",
   "name": "python",
   "nbconvert_exporter": "python",
   "pygments_lexer": "ipython3",
   "version": "3.11.3"
  }
 },
 "nbformat": 4,
 "nbformat_minor": 2
}
